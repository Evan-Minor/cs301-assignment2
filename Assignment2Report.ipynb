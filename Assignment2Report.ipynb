{
 "cells": [
  {
   "cell_type": "markdown",
   "metadata": {},
   "source": [
    "# CS301 - Assignment 2\n",
    "\n",
    "### Lists vs Dictionaries in Python\n",
    "\n",
    "By Joshua Swick, Evan Minor, and David Vandiver"
   ]
  },
  {
   "cell_type": "markdown",
   "metadata": {},
   "source": [
    "#### Assignment Prompt\n",
    "Experimentally determine the running time of list and dictionary operations in Python. \n",
    "Write a report explaining what you found, and draw whatever conclusions you can about \n",
    "how lists and dictionaries might be structured ino order to give this behavior. You will \n",
    "probably find it useful to write a function that produces a .csv file of data about the \n",
    "behavior of a given function and then to use Excel to plot the data and find a curve that \n",
    "fits it."
   ]
  },
  {
   "cell_type": "markdown",
   "metadata": {},
   "source": [
    "We compared this by measuring the runtime of functions doing similar operations on lists and dictionary data structures of increasing size. The functions are listed below and their runtimes graphed accordingly. "
   ]
  },
  {
   "cell_type": "markdown",
   "metadata": {},
   "source": [
    "## Prepare Data (see ./Assignment2.py)"
   ]
  },
  {
   "cell_type": "code",
   "execution_count": 1,
   "metadata": {},
   "outputs": [],
   "source": [
    "from Assignment2 import *\n",
    "number_of_elements = 100000\n",
    "main()"
   ]
  },
  {
   "cell_type": "code",
   "execution_count": 2,
   "metadata": {},
   "outputs": [],
   "source": [
    "import matplotlib.pyplot as plt\n",
    "import pandas as pd"
   ]
  },
  {
   "cell_type": "code",
   "execution_count": 20,
   "metadata": {},
   "outputs": [
    {
     "name": "stdout",
     "output_type": "stream",
     "text": [
      "appendFoo_dict.csv\t\t      getFirstElement_list.csv\r\n",
      "appendFoo_list.csv\t\t      getLastElement_dict.csv\r\n",
      "concatenateFooToEachElement_dict.csv  getLastElement_list.csv\r\n",
      "concatenateFooToEachElement_list.csv  lengthOf_dict.csv\r\n",
      "countNumOfElements_dict.csv\t      lengthOf_list.csv\r\n",
      "countNumOfElements_list.csv\t      sort_dict.csv\r\n",
      "getFirstElement_dict.csv\t      sort_list.csv\r\n"
     ]
    }
   ],
   "source": [
    "!ls ./csvs/ ## Raw csv files"
   ]
  },
  {
   "cell_type": "markdown",
   "metadata": {},
   "source": [
    "## Compare Data"
   ]
  },
  {
   "cell_type": "markdown",
   "metadata": {},
   "source": [
    "### Append element to data structure"
   ]
  },
  {
   "cell_type": "markdown",
   "metadata": {},
   "source": [
    "#### Dictionary"
   ]
  },
  {
   "cell_type": "code",
   "execution_count": 6,
   "metadata": {},
   "outputs": [],
   "source": [
    "file = \"csvs/appendFoo_dict.csv\"\n",
    "names = ['number-of-elements','time']\n",
    "dataset1 = pd.read_csv(file,names=names)"
   ]
  },
  {
   "cell_type": "code",
   "execution_count": 7,
   "metadata": {},
   "outputs": [
    {
     "name": "stdout",
     "output_type": "stream",
     "text": [
      "    number-of-elements      time\n",
      "0                    2  0.000004\n",
      "1                 6668  0.000005\n",
      "2                13334  0.000004\n",
      "3                20000  0.000002\n",
      "4                26666  0.000010\n",
      "5                33332  0.000004\n",
      "6                39998  0.000005\n",
      "7                46664  0.000003\n",
      "8                53330  0.000005\n",
      "9                59996  0.000005\n",
      "10               66662  0.000004\n",
      "11               73328  0.000003\n",
      "12               79994  0.000006\n",
      "13               86660  0.000003\n",
      "14               93326  0.000008\n"
     ]
    }
   ],
   "source": [
    "print(dataset1)"
   ]
  },
  {
   "cell_type": "code",
   "execution_count": 17,
   "metadata": {},
   "outputs": [
    {
     "data": {
      "text/plain": [
       "(0, 0.01)"
      ]
     },
     "execution_count": 17,
     "metadata": {},
     "output_type": "execute_result"
    },
    {
     "data": {
      "image/png": "[encoded data removed]",
      "text/plain": [
       "<Figure size 432x288 with 1 Axes>"
      ]
     },
     "metadata": {
      "needs_background": "light"
     },
     "output_type": "display_data"
    }
   ],
   "source": [
    "ax1 = dataset1.plot(kind='scatter',x='number-of-elements',y='time')\n",
    "ax1.set_ylim(0,.01)"
   ]
  },
  {
   "cell_type": "markdown",
   "metadata": {},
   "source": [
    "#### List"
   ]
  },
  {
   "cell_type": "code",
   "execution_count": null,
   "metadata": {},
   "outputs": [],
   "source": [
    "file = \"csvs/appendFoo_list.csv\"\n",
    "names = ['number-of-elements','time']\n",
    "dataset2 = pd.read_csv(file,names=names)"
   ]
  },
  {
   "cell_type": "code",
   "execution_count": 21,
   "metadata": {},
   "outputs": [
    {
     "data": {
      "text/plain": [
       "(0, 0.01)"
      ]
     },
     "execution_count": 21,
     "metadata": {},
     "output_type": "execute_result"
    },
    {
     "data": {
      "image/png": "[encoded data removed]",
      "text/plain": [
       "<Figure size 432x288 with 1 Axes>"
      ]
     },
     "metadata": {
      "needs_background": "light"
     },
     "output_type": "display_data"
    }
   ],
   "source": [
    "ax2 = dataset2.plot(kind='scatter',x='number-of-elements',y='time')\n",
    "ax2.set_ylim(0,.01)"
   ]
  },
  {
   "cell_type": "markdown",
   "metadata": {},
   "source": [
    "#### Explaination"
   ]
  },
  {
   "cell_type": "markdown",
   "metadata": {},
   "source": [
    "As of Python 3.7 dictionaries are ordered by insertion. The equivelent of appending to list would be to insert the element by key value pair as usual. This is a constant function.\n",
    "\n",
    "Python must check each element in the list to find the end as the operation is linear."
   ]
  },
  {
   "cell_type": "markdown",
   "metadata": {},
   "source": [
    "### Concatenate 'foo' to Each Element in the Data Structure"
   ]
  },
  {
   "cell_type": "markdown",
   "metadata": {},
   "source": [
    "#### Dictionary"
   ]
  },
  {
   "cell_type": "code",
   "execution_count": 23,
   "metadata": {},
   "outputs": [
    {
     "name": "stdout",
     "output_type": "stream",
     "text": [
      "    number-of-elements      time\n",
      "0                    1  0.000007\n",
      "1                 6667  0.001608\n",
      "2                13333  0.001697\n",
      "3                19999  0.004292\n",
      "4                26665  0.007481\n",
      "5                33331  0.004578\n",
      "6                39997  0.005165\n",
      "7                46663  0.006000\n",
      "8                53329  0.006974\n",
      "9                59995  0.007886\n",
      "10               66661  0.010344\n",
      "11               73327  0.009301\n",
      "12               79993  0.009957\n",
      "13               86659  0.012107\n",
      "14               93325  0.011796\n"
     ]
    }
   ],
   "source": [
    "file = \"csvs/concatenateFooToEachElement_dict.csv\"\n",
    "dataset3 = pd.read_csv(file,names=names)\n",
    "print(dataset3)"
   ]
  },
  {
   "cell_type": "code",
   "execution_count": 24,
   "metadata": {},
   "outputs": [
    {
     "data": {
      "text/plain": [
       "(0, 0.01)"
      ]
     },
     "execution_count": 24,
     "metadata": {},
     "output_type": "execute_result"
    },
    {
     "data": {
      "image/png": "[encoded data removed]",
      "text/plain": [
       "<Figure size 432x288 with 1 Axes>"
      ]
     },
     "metadata": {
      "needs_background": "light"
     },
     "output_type": "display_data"
    }
   ],
   "source": [
    "ax3 = dataset3.plot(kind='scatter',x='number-of-elements',y='time')\n",
    "ax3.set_ylim(0,.01)"
   ]
  },
  {
   "cell_type": "markdown",
   "metadata": {},
   "source": [
    "#### List"
   ]
  },
  {
   "cell_type": "code",
   "execution_count": 26,
   "metadata": {},
   "outputs": [
    {
     "name": "stdout",
     "output_type": "stream",
     "text": [
      "    number-of-elements      time\n",
      "0                    2  0.000005\n",
      "1                 6668  0.000675\n",
      "2                13334  0.001436\n",
      "3                20000  0.001974\n",
      "4                26666  0.002938\n",
      "5                33332  0.003309\n",
      "6                39998  0.003818\n",
      "7                46664  0.004208\n",
      "8                53330  0.006549\n",
      "9                59996  0.005000\n",
      "10               66662  0.005872\n",
      "11               73328  0.009136\n",
      "12               79994  0.006535\n",
      "13               86660  0.007375\n",
      "14               93326  0.008838\n"
     ]
    }
   ],
   "source": [
    "file = \"csvs/concatenateFooToEachElement_list.csv\"\n",
    "dataset4 = pd.read_csv(file,names=names)\n",
    "print(dataset4)"
   ]
  },
  {
   "cell_type": "code",
   "execution_count": 27,
   "metadata": {},
   "outputs": [
    {
     "data": {
      "text/plain": [
       "(0, 0.01)"
      ]
     },
     "execution_count": 27,
     "metadata": {},
     "output_type": "execute_result"
    },
    {
     "data": {
      "image/png": "[encoded data removed]",
      "text/plain": [
       "<Figure size 432x288 with 1 Axes>"
      ]
     },
     "metadata": {
      "needs_background": "light"
     },
     "output_type": "display_data"
    }
   ],
   "source": [
    "ax4 = dataset4.plot(kind='scatter',x='number-of-elements',y='time')\n",
    "ax4.set_ylim(0,.01)"
   ]
  },
  {
   "cell_type": "markdown",
   "metadata": {},
   "source": [
    "#### Explanation"
   ]
  },
  {
   "cell_type": "markdown",
   "metadata": {},
   "source": [
    "Python must iterate through each element in the data structure which is a linear operation."
   ]
  },
  {
   "cell_type": "markdown",
   "metadata": {},
   "source": [
    "### Count the Number of Elements in the Data Structure"
   ]
  },
  {
   "cell_type": "markdown",
   "metadata": {},
   "source": [
    "#### Dictionary"
   ]
  },
  {
   "cell_type": "code",
   "execution_count": 28,
   "metadata": {},
   "outputs": [
    {
     "name": "stdout",
     "output_type": "stream",
     "text": [
      "    number-of-elements      time\n",
      "0                    1  0.000009\n",
      "1                 6667  0.000258\n",
      "2                13333  0.000508\n",
      "3                19999  0.000863\n",
      "4                26665  0.001042\n",
      "5                33331  0.001315\n",
      "6                39997  0.001568\n",
      "7                46663  0.001803\n",
      "8                53329  0.002257\n",
      "9                59995  0.003628\n",
      "10               66661  0.002611\n",
      "11               73327  0.002971\n",
      "12               79993  0.005750\n",
      "13               86659  0.003660\n",
      "14               93325  0.003728\n"
     ]
    }
   ],
   "source": [
    "file = \"csvs/countNumOfElements_dict.csv\"\n",
    "dataset5 = pd.read_csv(file,names=names)\n",
    "print(dataset5)"
   ]
  },
  {
   "cell_type": "code",
   "execution_count": 29,
   "metadata": {},
   "outputs": [
    {
     "data": {
      "text/plain": [
       "(0, 0.01)"
      ]
     },
     "execution_count": 29,
     "metadata": {},
     "output_type": "execute_result"
    },
    {
     "data": {
      "image/png": "[encoded data removed]",
      "text/plain": [
       "<Figure size 432x288 with 1 Axes>"
      ]
     },
     "metadata": {
      "needs_background": "light"
     },
     "output_type": "display_data"
    }
   ],
   "source": [
    "ax5 = dataset5.plot(kind='scatter',x='number-of-elements',y='time')\n",
    "ax5.set_ylim(0,.01)"
   ]
  },
  {
   "cell_type": "markdown",
   "metadata": {},
   "source": [
    "#### List"
   ]
  },
  {
   "cell_type": "code",
   "execution_count": 30,
   "metadata": {},
   "outputs": [
    {
     "name": "stdout",
     "output_type": "stream",
     "text": [
      "    number-of-elements      time\n",
      "0                    2  0.000002\n",
      "1                 6668  0.000266\n",
      "2                13334  0.000545\n",
      "3                20000  0.000815\n",
      "4                26666  0.000960\n",
      "5                33332  0.002403\n",
      "6                39998  0.001511\n",
      "7                46664  0.002301\n",
      "8                53330  0.001911\n",
      "9                59996  0.002205\n",
      "10               66662  0.002745\n",
      "11               73328  0.002674\n",
      "12               79994  0.002807\n",
      "13               86660  0.003237\n",
      "14               93326  0.003460\n"
     ]
    }
   ],
   "source": [
    "file = \"csvs/countNumOfElements_list.csv\"\n",
    "dataset6 = pd.read_csv(file,names=names)\n",
    "print(dataset6)"
   ]
  },
  {
   "cell_type": "code",
   "execution_count": 31,
   "metadata": {},
   "outputs": [
    {
     "data": {
      "text/plain": [
       "(0, 0.01)"
      ]
     },
     "execution_count": 31,
     "metadata": {},
     "output_type": "execute_result"
    },
    {
     "data": {
      "image/png": "[encoded data removed]",
      "text/plain": [
       "<Figure size 432x288 with 1 Axes>"
      ]
     },
     "metadata": {
      "needs_background": "light"
     },
     "output_type": "display_data"
    }
   ],
   "source": [
    "ax6 = dataset6.plot(kind='scatter',x='number-of-elements',y='time')\n",
    "ax6.set_ylim(0,.01)"
   ]
  },
  {
   "cell_type": "markdown",
   "metadata": {},
   "source": [
    "#### Explaination"
   ]
  },
  {
   "cell_type": "markdown",
   "metadata": {},
   "source": [
    "Python must iterate through each element in the data structure while counting, which is a linear process."
   ]
  },
  {
   "cell_type": "markdown",
   "metadata": {},
   "source": [
    "### Get the First Element in the Data Structure"
   ]
  },
  {
   "cell_type": "markdown",
   "metadata": {},
   "source": [
    "#### Dictionary"
   ]
  },
  {
   "cell_type": "code",
   "execution_count": 32,
   "metadata": {},
   "outputs": [
    {
     "name": "stdout",
     "output_type": "stream",
     "text": [
      "    number-of-elements      time\n",
      "0                    1  0.000002\n",
      "1                 6667  0.000003\n",
      "2                13333  0.000003\n",
      "3                19999  0.000001\n",
      "4                26665  0.000003\n",
      "5                33331  0.000002\n",
      "6                39997  0.000003\n",
      "7                46663  0.000002\n",
      "8                53329  0.000005\n",
      "9                59995  0.000004\n",
      "10               66661  0.000003\n",
      "11               73327  0.000002\n",
      "12               79993  0.000002\n",
      "13               86659  0.000004\n",
      "14               93325  0.000003\n"
     ]
    }
   ],
   "source": [
    "file = \"csvs/getFirstElement_dict.csv\"\n",
    "dataset7 = pd.read_csv(file,names=names)\n",
    "print(dataset7)"
   ]
  },
  {
   "cell_type": "code",
   "execution_count": 33,
   "metadata": {},
   "outputs": [
    {
     "data": {
      "text/plain": [
       "(0, 0.01)"
      ]
     },
     "execution_count": 33,
     "metadata": {},
     "output_type": "execute_result"
    },
    {
     "data": {
      "image/png": "[encoded data removed]",
      "text/plain": [
       "<Figure size 432x288 with 1 Axes>"
      ]
     },
     "metadata": {
      "needs_background": "light"
     },
     "output_type": "display_data"
    }
   ],
   "source": [
    "ax7 = dataset7.plot(kind='scatter',x='number-of-elements',y='time')\n",
    "ax7.set_ylim(0,.01)"
   ]
  },
  {
   "cell_type": "markdown",
   "metadata": {},
   "source": [
    "#### List"
   ]
  },
  {
   "cell_type": "code",
   "execution_count": 34,
   "metadata": {},
   "outputs": [
    {
     "name": "stdout",
     "output_type": "stream",
     "text": [
      "    number-of-elements      time\n",
      "0                    2  0.000002\n",
      "1                 6668  0.000001\n",
      "2                13334  0.000001\n",
      "3                20000  0.000002\n",
      "4                26666  0.000002\n",
      "5                33332  0.000001\n",
      "6                39998  0.000002\n",
      "7                46664  0.000002\n",
      "8                53330  0.000002\n",
      "9                59996  0.000005\n",
      "10               66662  0.000002\n",
      "11               73328  0.000002\n",
      "12               79994  0.000002\n",
      "13               86660  0.000002\n",
      "14               93326  0.000003\n"
     ]
    }
   ],
   "source": [
    "file = \"csvs/getFirstElement_list.csv\"\n",
    "dataset8 = pd.read_csv(file,names=names)\n",
    "print(dataset8)"
   ]
  },
  {
   "cell_type": "code",
   "execution_count": 35,
   "metadata": {},
   "outputs": [
    {
     "data": {
      "text/plain": [
       "(0, 0.01)"
      ]
     },
     "execution_count": 35,
     "metadata": {},
     "output_type": "execute_result"
    },
    {
     "data": {
      "image/png": "[encoded data removed]",
      "text/plain": [
       "<Figure size 432x288 with 1 Axes>"
      ]
     },
     "metadata": {
      "needs_background": "light"
     },
     "output_type": "display_data"
    }
   ],
   "source": [
    "ax8 = dataset8.plot(kind='scatter',x='number-of-elements',y='time')\n",
    "ax8.set_ylim(0,.01)"
   ]
  },
  {
   "cell_type": "markdown",
   "metadata": {},
   "source": [
    "#### Explaination"
   ]
  },
  {
   "cell_type": "markdown",
   "metadata": {},
   "source": [
    "The first element of a data structure is always in the same index, hense a constant operation."
   ]
  },
  {
   "cell_type": "markdown",
   "metadata": {},
   "source": [
    "### Get the Last Element of the Data Structure"
   ]
  },
  {
   "cell_type": "markdown",
   "metadata": {},
   "source": [
    "#### Dictionary"
   ]
  },
  {
   "cell_type": "code",
   "execution_count": 37,
   "metadata": {},
   "outputs": [
    {
     "name": "stdout",
     "output_type": "stream",
     "text": [
      "    number-of-elements      time\n",
      "0                    1  0.000011\n",
      "1                 6667  0.000214\n",
      "2                13333  0.000294\n",
      "3                19999  0.000165\n",
      "4                26665  0.000387\n",
      "5                33331  0.000310\n",
      "6                39997  0.000462\n",
      "7                46663  0.000419\n",
      "8                53329  0.000481\n",
      "9                59995  0.000587\n",
      "10               66661  0.000592\n",
      "11               73327  0.001571\n",
      "12               79993  0.001695\n",
      "13               86659  0.000772\n",
      "14               93325  0.000878\n"
     ]
    }
   ],
   "source": [
    "file = \"csvs/getLastElement_dict.csv\"\n",
    "dataset9 = pd.read_csv(file,names=names)\n",
    "print(dataset9)"
   ]
  },
  {
   "cell_type": "code",
   "execution_count": 39,
   "metadata": {},
   "outputs": [
    {
     "data": {
      "text/plain": [
       "(0, 0.01)"
      ]
     },
     "execution_count": 39,
     "metadata": {},
     "output_type": "execute_result"
    },
    {
     "data": {
      "image/png": "[encoded data removed]",
      "text/plain": [
       "<Figure size 432x288 with 1 Axes>"
      ]
     },
     "metadata": {
      "needs_background": "light"
     },
     "output_type": "display_data"
    }
   ],
   "source": [
    "ax9 = dataset9.plot(kind='scatter',x='number-of-elements',y='time')\n",
    "ax9.set_ylim(0,.01)"
   ]
  },
  {
   "cell_type": "markdown",
   "metadata": {},
   "source": [
    "#### List"
   ]
  },
  {
   "cell_type": "code",
   "execution_count": 38,
   "metadata": {},
   "outputs": [
    {
     "name": "stdout",
     "output_type": "stream",
     "text": [
      "    number-of-elements          time\n",
      "0                    2  1.668930e-06\n",
      "1                 6668  1.192093e-06\n",
      "2                13334  1.668930e-06\n",
      "3                20000  2.384186e-06\n",
      "4                26666  9.536743e-07\n",
      "5                33332  1.907349e-06\n",
      "6                39998  1.668930e-06\n",
      "7                46664  1.907349e-06\n",
      "8                53330  1.668930e-06\n",
      "9                59996  2.622604e-06\n",
      "10               66662  2.145767e-06\n",
      "11               73328  5.245209e-06\n",
      "12               79994  1.430511e-06\n",
      "13               86660  2.145767e-06\n",
      "14               93326  2.384186e-06\n"
     ]
    }
   ],
   "source": [
    "file = \"csvs/getLastElement_list.csv\"\n",
    "dataset10 = pd.read_csv(file,names=names)\n",
    "print(dataset10)"
   ]
  },
  {
   "cell_type": "code",
   "execution_count": 40,
   "metadata": {},
   "outputs": [
    {
     "data": {
      "text/plain": [
       "(0, 0.01)"
      ]
     },
     "execution_count": 40,
     "metadata": {},
     "output_type": "execute_result"
    },
    {
     "data": {
      "image/png": "[encoded data removed]",
      "text/plain": [
       "<Figure size 432x288 with 1 Axes>"
      ]
     },
     "metadata": {
      "needs_background": "light"
     },
     "output_type": "display_data"
    }
   ],
   "source": [
    "ax10 = dataset10.plot(kind='scatter',x='number-of-elements',y='time')\n",
    "ax10.set_ylim(0,.01)"
   ]
  },
  {
   "cell_type": "markdown",
   "metadata": {},
   "source": [
    "#### Explaination"
   ]
  },
  {
   "cell_type": "markdown",
   "metadata": {},
   "source": [
    "List looks constant, dictionary is linear?"
   ]
  },
  {
   "cell_type": "markdown",
   "metadata": {},
   "source": [
    "### Get the Length of the Data Structure"
   ]
  },
  {
   "cell_type": "markdown",
   "metadata": {},
   "source": [
    "#### Dictionary"
   ]
  },
  {
   "cell_type": "code",
   "execution_count": 41,
   "metadata": {},
   "outputs": [
    {
     "name": "stdout",
     "output_type": "stream",
     "text": [
      "    number-of-elements      time\n",
      "0                    1  0.000003\n",
      "1                 6667  0.000006\n",
      "2                13333  0.000004\n",
      "3                19999  0.000003\n",
      "4                26665  0.000003\n",
      "5                33331  0.000002\n",
      "6                39997  0.000004\n",
      "7                46663  0.000004\n",
      "8                53329  0.000004\n",
      "9                59995  0.000004\n",
      "10               66661  0.000004\n",
      "11               73327  0.000003\n",
      "12               79993  0.000003\n",
      "13               86659  0.000003\n",
      "14               93325  0.000004\n"
     ]
    }
   ],
   "source": [
    "file = \"csvs/lengthOf_dict.csv\"\n",
    "dataset11 = pd.read_csv(file,names=names)\n",
    "print(dataset11)"
   ]
  },
  {
   "cell_type": "code",
   "execution_count": 43,
   "metadata": {},
   "outputs": [
    {
     "data": {
      "text/plain": [
       "(0, 0.01)"
      ]
     },
     "execution_count": 43,
     "metadata": {},
     "output_type": "execute_result"
    },
    {
     "data": {
      "image/png": "[encoded data removed]",
      "text/plain": [
       "<Figure size 432x288 with 1 Axes>"
      ]
     },
     "metadata": {
      "needs_background": "light"
     },
     "output_type": "display_data"
    }
   ],
   "source": [
    "ax11 = dataset11.plot(kind='scatter',x='number-of-elements',y='time')\n",
    "ax11.set_ylim(0,.01)"
   ]
  },
  {
   "cell_type": "markdown",
   "metadata": {},
   "source": [
    "#### Lists"
   ]
  },
  {
   "cell_type": "code",
   "execution_count": 42,
   "metadata": {},
   "outputs": [
    {
     "name": "stdout",
     "output_type": "stream",
     "text": [
      "    number-of-elements          time\n",
      "0                    2  1.668930e-06\n",
      "1                 6668  7.152557e-07\n",
      "2                13334  1.192093e-06\n",
      "3                20000  2.384186e-06\n",
      "4                26666  3.576279e-06\n",
      "5                33332  2.622604e-06\n",
      "6                39998  3.814697e-06\n",
      "7                46664  3.099442e-06\n",
      "8                53330  2.145767e-06\n",
      "9                59996  2.861023e-06\n",
      "10               66662  3.099442e-06\n",
      "11               73328  4.053116e-06\n",
      "12               79994  2.861023e-06\n",
      "13               86660  2.861023e-06\n",
      "14               93326  3.337860e-06\n"
     ]
    }
   ],
   "source": [
    "file = \"csvs/lengthOf_list.csv\"\n",
    "dataset12 = pd.read_csv(file,names=names)\n",
    "print(dataset12)"
   ]
  },
  {
   "cell_type": "code",
   "execution_count": 44,
   "metadata": {},
   "outputs": [
    {
     "data": {
      "text/plain": [
       "(0, 0.01)"
      ]
     },
     "execution_count": 44,
     "metadata": {},
     "output_type": "execute_result"
    },
    {
     "data": {
      "image/png": "[encoded data removed]",
      "text/plain": [
       "<Figure size 432x288 with 1 Axes>"
      ]
     },
     "metadata": {
      "needs_background": "light"
     },
     "output_type": "display_data"
    }
   ],
   "source": [
    "ax12 = dataset12.plot(kind='scatter',x='number-of-elements',y='time')\n",
    "ax12.set_ylim(0,.01)"
   ]
  },
  {
   "cell_type": "markdown",
   "metadata": {},
   "source": [
    "#### Explaination"
   ]
  },
  {
   "cell_type": "markdown",
   "metadata": {},
   "source": [
    "Getting the length of a list or dictionary is a constant operation, is the length saved as meta data or easily calculated?"
   ]
  },
  {
   "cell_type": "markdown",
   "metadata": {},
   "source": [
    "### Sort the Data Structure"
   ]
  },
  {
   "cell_type": "markdown",
   "metadata": {},
   "source": [
    "#### Dictionary"
   ]
  },
  {
   "cell_type": "markdown",
   "metadata": {},
   "source": [
    "Dictionaries cannot be ordered by key, value elements."
   ]
  },
  {
   "cell_type": "markdown",
   "metadata": {},
   "source": [
    "#### List"
   ]
  },
  {
   "cell_type": "code",
   "execution_count": 47,
   "metadata": {},
   "outputs": [
    {
     "name": "stdout",
     "output_type": "stream",
     "text": [
      "    number-of-elements      time\n",
      "0                    2  0.000002\n",
      "1                 6668  0.000126\n",
      "2                13334  0.000237\n",
      "3                20000  0.000422\n",
      "4                26666  0.000553\n",
      "5                33332  0.000641\n",
      "6                39998  0.000846\n",
      "7                46664  0.001221\n",
      "8                53330  0.001121\n",
      "9                59996  0.001438\n",
      "10               66662  0.001315\n",
      "11               73328  0.001483\n",
      "12               79994  0.001853\n",
      "13               86660  0.002292\n",
      "14               93326  0.001969\n"
     ]
    }
   ],
   "source": [
    "file = \"csvs/sort_list.csv\"\n",
    "dataset14 = pd.read_csv(file,names=names)\n",
    "print(dataset14)"
   ]
  },
  {
   "cell_type": "code",
   "execution_count": 53,
   "metadata": {},
   "outputs": [
    {
     "data": {
      "text/plain": [
       "(0, 0.01)"
      ]
     },
     "execution_count": 53,
     "metadata": {},
     "output_type": "execute_result"
    },
    {
     "data": {
      "image/png": "[encoded data removed]",
      "text/plain": [
       "<Figure size 432x288 with 1 Axes>"
      ]
     },
     "metadata": {
      "needs_background": "light"
     },
     "output_type": "display_data"
    }
   ],
   "source": [
    "ax14 = dataset14.plot(kind='scatter',x='number-of-elements',y='time')\n",
    "ax14.set_ylim(0,.01)"
   ]
  },
  {
   "cell_type": "markdown",
   "metadata": {},
   "source": [
    "#### Explaination"
   ]
  },
  {
   "cell_type": "markdown",
   "metadata": {},
   "source": [
    "Sorting of a list is linear."
   ]
  },
  {
   "cell_type": "markdown",
   "metadata": {},
   "source": [
    "### Summary"
   ]
  },
  {
   "cell_type": "markdown",
   "metadata": {},
   "source": [
    "Operations are either constant, when independent of the number of elements in a data structure, or linear."
   ]
  }
 ],
 "metadata": {
  "kernelspec": {
   "display_name": "Python 3",
   "language": "python",
   "name": "python3"
  },
  "language_info": {
   "codemirror_mode": {
    "name": "ipython",
    "version": 3
   },
   "file_extension": ".py",
   "mimetype": "text/x-python",
   "name": "python",
   "nbconvert_exporter": "python",
   "pygments_lexer": "ipython3",
   "version": "3.7.1"
  }
 },
 "nbformat": 4,
 "nbformat_minor": 2
}
