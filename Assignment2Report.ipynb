{
 "cells": [
  {
   "cell_type": "markdown",
   "metadata": {},
   "source": [
    "# CS301 - Assignment 2\n",
    "\n",
    "### Lists vs Dictionaries in Python\n",
    "\n",
    "By Joshua Swick, Evan Minor, and David Vandiver"
   ]
  },
  {
   "cell_type": "markdown",
   "metadata": {},
   "source": [
    "#### Assignment Prompt\n",
    "Experimentally determine the running time of list and dictionary operations in Python. \n",
    "Write a report explaining what you found, and draw whatever conclusions you can about \n",
    "how lists and dictionaries might be structured ino order to give this behavior. You will \n",
    "probably find it useful to write a function that produces a .csv file of data about the \n",
    "behavior of a given function and then to use Excel to plot the data and find a curve that \n",
    "fits it."
   ]
  },
  {
   "cell_type": "markdown",
   "metadata": {},
   "source": [
    "We compared this by measuring the runtime of functions doing similar operations on lists and dictionary data structures of increasing size. The functions are listed below and their runtimes graphed accordingly. "
   ]
  },
  {
   "cell_type": "markdown",
   "metadata": {},
   "source": [
    "## Prepare Data (see ./Assignment2.py)"
   ]
  },
  {
   "cell_type": "code",
   "execution_count": 1,
   "metadata": {},
   "outputs": [],
   "source": [
    "from Assignment2 import *\n",
    "number_of_elements = 100000\n",
    "main()"
   ]
  },
  {
   "cell_type": "code",
   "execution_count": 2,
   "metadata": {},
   "outputs": [],
   "source": [
    "import matplotlib.pyplot as plt\n",
    "import pandas as pd"
   ]
  },
  {
   "cell_type": "code",
   "execution_count": 3,
   "metadata": {},
   "outputs": [
    {
     "name": "stdout",
     "output_type": "stream",
     "text": [
      "addFooMiddle_dict.csv\t\t      getLastElement_dict.csv\r\n",
      "addFooMiddle_list.csv\t\t      getLastElement_list.csv\r\n",
      "appendFoo_dict.csv\t\t      getMiddleElement_dict.csv\r\n",
      "appendFoo_list.csv\t\t      getMiddleElement_list.csv\r\n",
      "concatenateFooToEachElement_dict.csv  lengthOf_dict.csv\r\n",
      "concatenateFooToEachElement_list.csv  lengthOf_list.csv\r\n",
      "countNumOfElements_dict.csv\t      removeMiddleElement_dict.csv\r\n",
      "countNumOfElements_list.csv\t      removeMiddleElement_list.csv\r\n",
      "getFirstElement_dict.csv\t      sort_dict.csv\r\n",
      "getFirstElement_list.csv\t      sort_list.csv\r\n"
     ]
    }
   ],
   "source": [
    "!ls ./csvs/ ## Raw csv files"
   ]
  },
  {
   "cell_type": "markdown",
   "metadata": {},
   "source": [
    "## Compare Data"
   ]
  },
  {
   "cell_type": "markdown",
   "metadata": {},
   "source": [
    "### Append element to data structure"
   ]
  },
  {
   "cell_type": "markdown",
   "metadata": {},
   "source": [
    "#### Dictionary"
   ]
  },
  {
   "cell_type": "code",
   "execution_count": 4,
   "metadata": {},
   "outputs": [],
   "source": [
    "file = \"csvs/appendFoo_dict.csv\"\n",
    "names = ['number-of-elements','time']\n",
    "dataset1 = pd.read_csv(file,names=names)"
   ]
  },
  {
   "cell_type": "code",
   "execution_count": 5,
   "metadata": {},
   "outputs": [
    {
     "name": "stdout",
     "output_type": "stream",
     "text": [
      "    number-of-elements      time\n",
      "0                    2  0.000004\n",
      "1                 6668  0.000003\n",
      "2                13334  0.000004\n",
      "3                20000  0.000004\n",
      "4                26666  0.000004\n",
      "5                33332  0.000003\n",
      "6                39998  0.000003\n",
      "7                46664  0.000004\n",
      "8                53330  0.000004\n",
      "9                59996  0.000003\n",
      "10               66662  0.000004\n",
      "11               73328  0.000003\n",
      "12               79994  0.000003\n",
      "13               86660  0.000003\n",
      "14               93326  0.000003\n"
     ]
    }
   ],
   "source": [
    "print(dataset1)"
   ]
  },
  {
   "cell_type": "code",
   "execution_count": 6,
   "metadata": {},
   "outputs": [
    {
     "data": {
      "text/plain": [
       "(0, 0.01)"
      ]
     },
     "execution_count": 6,
     "metadata": {},
     "output_type": "execute_result"
    },
    {
     "data": {
      "image/png": "[encoded data removed]",
      "text/plain": [
       "<Figure size 432x288 with 1 Axes>"
      ]
     },
     "metadata": {
      "needs_background": "light"
     },
     "output_type": "display_data"
    }
   ],
   "source": [
    "ax1 = dataset1.plot(kind='scatter',x='number-of-elements',y='time')\n",
    "ax1.set_ylim(0,.01)"
   ]
  },
  {
   "cell_type": "markdown",
   "metadata": {},
   "source": [
    "#### List"
   ]
  },
  {
   "cell_type": "code",
   "execution_count": 7,
   "metadata": {},
   "outputs": [],
   "source": [
    "file = \"csvs/appendFoo_list.csv\"\n",
    "names = ['number-of-elements','time']\n",
    "dataset2 = pd.read_csv(file,names=names)"
   ]
  },
  {
   "cell_type": "code",
   "execution_count": 8,
   "metadata": {},
   "outputs": [
    {
     "data": {
      "text/plain": [
       "(0, 0.01)"
      ]
     },
     "execution_count": 8,
     "metadata": {},
     "output_type": "execute_result"
    },
    {
     "data": {
      "image/png": "[encoded data removed]",
      "text/plain": [
       "<Figure size 432x288 with 1 Axes>"
      ]
     },
     "metadata": {
      "needs_background": "light"
     },
     "output_type": "display_data"
    }
   ],
   "source": [
    "ax2 = dataset2.plot(kind='scatter',x='number-of-elements',y='time')\n",
    "ax2.set_ylim(0,.01)"
   ]
  },
  {
   "cell_type": "markdown",
   "metadata": {},
   "source": [
    "#### Explaination"
   ]
  },
  {
   "cell_type": "markdown",
   "metadata": {},
   "source": [
    "As of Python 3.7 dictionaries are ordered by insertion. The equivelent of appending to list would be to insert the element by key value pair as usual. This is a constant function.\n",
    "\n",
    "Python must check each element in the list to find the end as the operation is linear."
   ]
  },
  {
   "cell_type": "markdown",
   "metadata": {},
   "source": [
    "### Concatenate 'foo' to Each Element in the Data Structure"
   ]
  },
  {
   "cell_type": "markdown",
   "metadata": {},
   "source": [
    "#### Dictionary"
   ]
  },
  {
   "cell_type": "code",
   "execution_count": 9,
   "metadata": {},
   "outputs": [
    {
     "name": "stdout",
     "output_type": "stream",
     "text": [
      "    number-of-elements      time\n",
      "0                    1  0.000006\n",
      "1                 6667  0.000821\n",
      "2                13333  0.002174\n",
      "3                19999  0.002583\n",
      "4                26665  0.003731\n",
      "5                33331  0.004907\n",
      "6                39997  0.004710\n",
      "7                46663  0.006483\n",
      "8                53329  0.006334\n",
      "9                59995  0.008263\n",
      "10               66661  0.009065\n",
      "11               73327  0.010756\n",
      "12               79993  0.011292\n",
      "13               86659  0.012216\n",
      "14               93325  0.012706\n"
     ]
    }
   ],
   "source": [
    "file = \"csvs/concatenateFooToEachElement_dict.csv\"\n",
    "dataset3 = pd.read_csv(file,names=names)\n",
    "print(dataset3)"
   ]
  },
  {
   "cell_type": "code",
   "execution_count": 10,
   "metadata": {},
   "outputs": [
    {
     "data": {
      "text/plain": [
       "(0, 0.01)"
      ]
     },
     "execution_count": 10,
     "metadata": {},
     "output_type": "execute_result"
    },
    {
     "data": {
      "image/png": "[encoded data removed]",
      "text/plain": [
       "<Figure size 432x288 with 1 Axes>"
      ]
     },
     "metadata": {
      "needs_background": "light"
     },
     "output_type": "display_data"
    }
   ],
   "source": [
    "ax3 = dataset3.plot(kind='scatter',x='number-of-elements',y='time')\n",
    "ax3.set_ylim(0,.01)"
   ]
  },
  {
   "cell_type": "markdown",
   "metadata": {},
   "source": [
    "#### List"
   ]
  },
  {
   "cell_type": "code",
   "execution_count": 11,
   "metadata": {},
   "outputs": [
    {
     "name": "stdout",
     "output_type": "stream",
     "text": [
      "    number-of-elements      time\n",
      "0                    2  0.000005\n",
      "1                 6668  0.000558\n",
      "2                13334  0.001348\n",
      "3                20000  0.002528\n",
      "4                26666  0.003281\n",
      "5                33332  0.003526\n",
      "6                39998  0.003846\n",
      "7                46664  0.004595\n",
      "8                53330  0.005841\n",
      "9                59996  0.005844\n",
      "10               66662  0.007005\n",
      "11               73328  0.006511\n",
      "12               79994  0.006788\n",
      "13               86660  0.007304\n",
      "14               93326  0.008094\n"
     ]
    }
   ],
   "source": [
    "file = \"csvs/concatenateFooToEachElement_list.csv\"\n",
    "dataset4 = pd.read_csv(file,names=names)\n",
    "print(dataset4)"
   ]
  },
  {
   "cell_type": "code",
   "execution_count": 12,
   "metadata": {},
   "outputs": [
    {
     "data": {
      "text/plain": [
       "(0, 0.01)"
      ]
     },
     "execution_count": 12,
     "metadata": {},
     "output_type": "execute_result"
    },
    {
     "data": {
      "image/png": "[encoded data removed]",
      "text/plain": [
       "<Figure size 432x288 with 1 Axes>"
      ]
     },
     "metadata": {
      "needs_background": "light"
     },
     "output_type": "display_data"
    }
   ],
   "source": [
    "ax4 = dataset4.plot(kind='scatter',x='number-of-elements',y='time')\n",
    "ax4.set_ylim(0,.01)"
   ]
  },
  {
   "cell_type": "markdown",
   "metadata": {},
   "source": [
    "#### Explanation"
   ]
  },
  {
   "cell_type": "markdown",
   "metadata": {},
   "source": [
    "Python must iterate through each element in the data structure which is a linear operation. Since the list and the dictionary are linear in this respect, it must add foo to each element individually before it can move on to the next element"
   ]
  },
  {
   "cell_type": "markdown",
   "metadata": {},
   "source": [
    "### Count the Number of Elements in the Data Structure"
   ]
  },
  {
   "cell_type": "markdown",
   "metadata": {},
   "source": [
    "#### Dictionary"
   ]
  },
  {
   "cell_type": "code",
   "execution_count": 13,
   "metadata": {},
   "outputs": [
    {
     "name": "stdout",
     "output_type": "stream",
     "text": [
      "    number-of-elements      time\n",
      "0                    1  0.000003\n",
      "1                 6667  0.000248\n",
      "2                13333  0.000639\n",
      "3                19999  0.000745\n",
      "4                26665  0.000972\n",
      "5                33331  0.001357\n",
      "6                39997  0.001429\n",
      "7                46663  0.001792\n",
      "8                53329  0.001959\n",
      "9                59995  0.002106\n",
      "10               66661  0.002316\n",
      "11               73327  0.002550\n",
      "12               79993  0.003011\n",
      "13               86659  0.003011\n",
      "14               93325  0.003853\n"
     ]
    }
   ],
   "source": [
    "file = \"csvs/countNumOfElements_dict.csv\"\n",
    "dataset5 = pd.read_csv(file,names=names)\n",
    "print(dataset5)"
   ]
  },
  {
   "cell_type": "code",
   "execution_count": 14,
   "metadata": {},
   "outputs": [
    {
     "data": {
      "text/plain": [
       "(0, 0.01)"
      ]
     },
     "execution_count": 14,
     "metadata": {},
     "output_type": "execute_result"
    },
    {
     "data": {
      "image/png": "[encoded data removed]",
      "text/plain": [
       "<Figure size 432x288 with 1 Axes>"
      ]
     },
     "metadata": {
      "needs_background": "light"
     },
     "output_type": "display_data"
    }
   ],
   "source": [
    "ax5 = dataset5.plot(kind='scatter',x='number-of-elements',y='time')\n",
    "ax5.set_ylim(0,.01)"
   ]
  },
  {
   "cell_type": "markdown",
   "metadata": {},
   "source": [
    "#### List"
   ]
  },
  {
   "cell_type": "code",
   "execution_count": 15,
   "metadata": {},
   "outputs": [
    {
     "name": "stdout",
     "output_type": "stream",
     "text": [
      "    number-of-elements      time\n",
      "0                    2  0.000002\n",
      "1                 6668  0.000328\n",
      "2                13334  0.000536\n",
      "3                20000  0.000877\n",
      "4                26666  0.001074\n",
      "5                33332  0.001233\n",
      "6                39998  0.001511\n",
      "7                46664  0.001745\n",
      "8                53330  0.001879\n",
      "9                59996  0.002263\n",
      "10               66662  0.002767\n",
      "11               73328  0.002886\n",
      "12               79994  0.003383\n",
      "13               86660  0.003607\n",
      "14               93326  0.003504\n"
     ]
    }
   ],
   "source": [
    "file = \"csvs/countNumOfElements_list.csv\"\n",
    "dataset6 = pd.read_csv(file,names=names)\n",
    "print(dataset6)"
   ]
  },
  {
   "cell_type": "code",
   "execution_count": 16,
   "metadata": {},
   "outputs": [
    {
     "data": {
      "text/plain": [
       "(0, 0.01)"
      ]
     },
     "execution_count": 16,
     "metadata": {},
     "output_type": "execute_result"
    },
    {
     "data": {
      "image/png": "[encoded data removed]",
      "text/plain": [
       "<Figure size 432x288 with 1 Axes>"
      ]
     },
     "metadata": {
      "needs_background": "light"
     },
     "output_type": "display_data"
    }
   ],
   "source": [
    "ax6 = dataset6.plot(kind='scatter',x='number-of-elements',y='time')\n",
    "ax6.set_ylim(0,.01)"
   ]
  },
  {
   "cell_type": "markdown",
   "metadata": {},
   "source": [
    "#### Explaination"
   ]
  },
  {
   "cell_type": "markdown",
   "metadata": {},
   "source": [
    "Python must iterate through each element in the data structure while counting, which is a linear process. Since this is linear time will in increase in the typical mx+b fashion."
   ]
  },
  {
   "cell_type": "markdown",
   "metadata": {},
   "source": [
    "### Get the First Element in the Data Structure"
   ]
  },
  {
   "cell_type": "markdown",
   "metadata": {},
   "source": [
    "#### Dictionary"
   ]
  },
  {
   "cell_type": "code",
   "execution_count": 17,
   "metadata": {},
   "outputs": [
    {
     "name": "stdout",
     "output_type": "stream",
     "text": [
      "    number-of-elements      time\n",
      "0                    1  0.000004\n",
      "1                 6667  0.000004\n",
      "2                13333  0.000002\n",
      "3                19999  0.000002\n",
      "4                26665  0.000002\n",
      "5                33331  0.000002\n",
      "6                39997  0.000002\n",
      "7                46663  0.000002\n",
      "8                53329  0.000002\n",
      "9                59995  0.000002\n",
      "10               66661  0.000002\n",
      "11               73327  0.000002\n",
      "12               79993  0.000002\n",
      "13               86659  0.000002\n",
      "14               93325  0.000002\n"
     ]
    }
   ],
   "source": [
    "file = \"csvs/getFirstElement_dict.csv\"\n",
    "dataset7 = pd.read_csv(file,names=names)\n",
    "print(dataset7)"
   ]
  },
  {
   "cell_type": "code",
   "execution_count": 18,
   "metadata": {},
   "outputs": [
    {
     "data": {
      "text/plain": [
       "(0, 0.01)"
      ]
     },
     "execution_count": 18,
     "metadata": {},
     "output_type": "execute_result"
    },
    {
     "data": {
      "image/png": "[encoded data removed]",
      "text/plain": [
       "<Figure size 432x288 with 1 Axes>"
      ]
     },
     "metadata": {
      "needs_background": "light"
     },
     "output_type": "display_data"
    }
   ],
   "source": [
    "ax7 = dataset7.plot(kind='scatter',x='number-of-elements',y='time')\n",
    "ax7.set_ylim(0,.01)"
   ]
  },
  {
   "cell_type": "markdown",
   "metadata": {},
   "source": [
    "#### List"
   ]
  },
  {
   "cell_type": "code",
   "execution_count": 19,
   "metadata": {},
   "outputs": [
    {
     "name": "stdout",
     "output_type": "stream",
     "text": [
      "    number-of-elements          time\n",
      "0                    2  1.192093e-06\n",
      "1                 6668  4.768372e-07\n",
      "2                13334  9.536743e-07\n",
      "3                20000  9.536743e-07\n",
      "4                26666  1.192093e-06\n",
      "5                33332  1.192093e-06\n",
      "6                39998  2.384186e-06\n",
      "7                46664  1.668930e-06\n",
      "8                53330  1.668930e-06\n",
      "9                59996  1.907349e-06\n",
      "10               66662  1.907349e-06\n",
      "11               73328  1.907349e-06\n",
      "12               79994  1.430511e-06\n",
      "13               86660  1.907349e-06\n",
      "14               93326  2.861023e-06\n"
     ]
    }
   ],
   "source": [
    "file = \"csvs/getFirstElement_list.csv\"\n",
    "dataset8 = pd.read_csv(file,names=names)\n",
    "print(dataset8)"
   ]
  },
  {
   "cell_type": "code",
   "execution_count": 20,
   "metadata": {},
   "outputs": [
    {
     "data": {
      "text/plain": [
       "(0, 0.01)"
      ]
     },
     "execution_count": 20,
     "metadata": {},
     "output_type": "execute_result"
    },
    {
     "data": {
      "image/png": "[encoded data removed]",
      "text/plain": [
       "<Figure size 432x288 with 1 Axes>"
      ]
     },
     "metadata": {
      "needs_background": "light"
     },
     "output_type": "display_data"
    }
   ],
   "source": [
    "ax8 = dataset8.plot(kind='scatter',x='number-of-elements',y='time')\n",
    "ax8.set_ylim(0,.01)"
   ]
  },
  {
   "cell_type": "markdown",
   "metadata": {},
   "source": [
    "#### Explaination"
   ]
  },
  {
   "cell_type": "markdown",
   "metadata": {},
   "source": [
    "The first element of a data structure is always in the same index, hense a constant operation. This function will be constant for both a list and a dictionary as it is acessing the first lement."
   ]
  },
  {
   "cell_type": "markdown",
   "metadata": {},
   "source": [
    "### Get the Last Element of the Data Structure"
   ]
  },
  {
   "cell_type": "markdown",
   "metadata": {},
   "source": [
    "#### Dictionary"
   ]
  },
  {
   "cell_type": "code",
   "execution_count": 21,
   "metadata": {},
   "outputs": [
    {
     "name": "stdout",
     "output_type": "stream",
     "text": [
      "    number-of-elements      time\n",
      "0                    1  0.000007\n",
      "1                 6667  0.000051\n",
      "2                13333  0.000096\n",
      "3                19999  0.000184\n",
      "4                26665  0.000236\n",
      "5                33331  0.000270\n",
      "6                39997  0.000337\n",
      "7                46663  0.000389\n",
      "8                53329  0.000452\n",
      "9                59995  0.000491\n",
      "10               66661  0.000669\n",
      "11               73327  0.000607\n",
      "12               79993  0.000744\n",
      "13               86659  0.001409\n",
      "14               93325  0.000927\n"
     ]
    }
   ],
   "source": [
    "file = \"csvs/getLastElement_dict.csv\"\n",
    "dataset9 = pd.read_csv(file,names=names)\n",
    "print(dataset9)"
   ]
  },
  {
   "cell_type": "code",
   "execution_count": 22,
   "metadata": {},
   "outputs": [
    {
     "data": {
      "text/plain": [
       "(0, 0.01)"
      ]
     },
     "execution_count": 22,
     "metadata": {},
     "output_type": "execute_result"
    },
    {
     "data": {
      "image/png": "[encoded data removed]",
      "text/plain": [
       "<Figure size 432x288 with 1 Axes>"
      ]
     },
     "metadata": {
      "needs_background": "light"
     },
     "output_type": "display_data"
    }
   ],
   "source": [
    "ax9 = dataset9.plot(kind='scatter',x='number-of-elements',y='time')\n",
    "ax9.set_ylim(0,.01)"
   ]
  },
  {
   "cell_type": "markdown",
   "metadata": {},
   "source": [
    "#### List"
   ]
  },
  {
   "cell_type": "code",
   "execution_count": 23,
   "metadata": {},
   "outputs": [
    {
     "name": "stdout",
     "output_type": "stream",
     "text": [
      "    number-of-elements          time\n",
      "0                    2  2.145767e-06\n",
      "1                 6668  9.536743e-07\n",
      "2                13334  9.536743e-07\n",
      "3                20000  1.430511e-06\n",
      "4                26666  1.430511e-06\n",
      "5                33332  1.907349e-06\n",
      "6                39998  1.907349e-06\n",
      "7                46664  2.622604e-06\n",
      "8                53330  2.384186e-06\n",
      "9                59996  1.907349e-06\n",
      "10               66662  2.145767e-06\n",
      "11               73328  1.907349e-06\n",
      "12               79994  1.430511e-06\n",
      "13               86660  2.145767e-06\n",
      "14               93326  2.145767e-06\n"
     ]
    }
   ],
   "source": [
    "file = \"csvs/getLastElement_list.csv\"\n",
    "dataset10 = pd.read_csv(file,names=names)\n",
    "print(dataset10)"
   ]
  },
  {
   "cell_type": "code",
   "execution_count": 24,
   "metadata": {},
   "outputs": [
    {
     "data": {
      "text/plain": [
       "(0, 0.01)"
      ]
     },
     "execution_count": 24,
     "metadata": {},
     "output_type": "execute_result"
    },
    {
     "data": {
      "image/png": "[encoded data removed]",
      "text/plain": [
       "<Figure size 432x288 with 1 Axes>"
      ]
     },
     "metadata": {
      "needs_background": "light"
     },
     "output_type": "display_data"
    }
   ],
   "source": [
    "ax10 = dataset10.plot(kind='scatter',x='number-of-elements',y='time')\n",
    "ax10.set_ylim(0,.01)"
   ]
  },
  {
   "cell_type": "markdown",
   "metadata": {},
   "source": [
    "#### Explaination"
   ]
  },
  {
   "cell_type": "markdown",
   "metadata": {},
   "source": [
    "Since the list is acessing its same indexed element each time, it will be constant. The dictionary is linear as it must list out the data keys and find the last one. "
   ]
  },
  {
   "cell_type": "markdown",
   "metadata": {},
   "source": [
    "### Get the Length of the Data Structure"
   ]
  },
  {
   "cell_type": "markdown",
   "metadata": {},
   "source": [
    "#### Dictionary"
   ]
  },
  {
   "cell_type": "code",
   "execution_count": 25,
   "metadata": {},
   "outputs": [
    {
     "name": "stdout",
     "output_type": "stream",
     "text": [
      "    number-of-elements      time\n",
      "0                    1  0.000004\n",
      "1                 6667  0.000004\n",
      "2                13333  0.000003\n",
      "3                19999  0.000003\n",
      "4                26665  0.000003\n",
      "5                33331  0.000003\n",
      "6                39997  0.000003\n",
      "7                46663  0.000003\n",
      "8                53329  0.000003\n",
      "9                59995  0.000002\n",
      "10               66661  0.000002\n",
      "11               73327  0.000003\n",
      "12               79993  0.000003\n",
      "13               86659  0.000003\n",
      "14               93325  0.000003\n"
     ]
    }
   ],
   "source": [
    "file = \"csvs/lengthOf_dict.csv\"\n",
    "dataset11 = pd.read_csv(file,names=names)\n",
    "print(dataset11)"
   ]
  },
  {
   "cell_type": "code",
   "execution_count": 26,
   "metadata": {},
   "outputs": [
    {
     "data": {
      "text/plain": [
       "(0, 0.01)"
      ]
     },
     "execution_count": 26,
     "metadata": {},
     "output_type": "execute_result"
    },
    {
     "data": {
      "image/png": "[encoded data removed]",
      "text/plain": [
       "<Figure size 432x288 with 1 Axes>"
      ]
     },
     "metadata": {
      "needs_background": "light"
     },
     "output_type": "display_data"
    }
   ],
   "source": [
    "ax11 = dataset11.plot(kind='scatter',x='number-of-elements',y='time')\n",
    "ax11.set_ylim(0,.01)"
   ]
  },
  {
   "cell_type": "markdown",
   "metadata": {},
   "source": [
    "#### Lists"
   ]
  },
  {
   "cell_type": "code",
   "execution_count": 27,
   "metadata": {},
   "outputs": [
    {
     "name": "stdout",
     "output_type": "stream",
     "text": [
      "    number-of-elements      time\n",
      "0                    2  0.000002\n",
      "1                 6668  0.000002\n",
      "2                13334  0.000001\n",
      "3                20000  0.000003\n",
      "4                26666  0.000003\n",
      "5                33332  0.000002\n",
      "6                39998  0.000003\n",
      "7                46664  0.000002\n",
      "8                53330  0.000002\n",
      "9                59996  0.000003\n",
      "10               66662  0.000003\n",
      "11               73328  0.000003\n",
      "12               79994  0.000002\n",
      "13               86660  0.000003\n",
      "14               93326  0.000003\n"
     ]
    }
   ],
   "source": [
    "file = \"csvs/lengthOf_list.csv\"\n",
    "dataset12 = pd.read_csv(file,names=names)\n",
    "print(dataset12)"
   ]
  },
  {
   "cell_type": "code",
   "execution_count": 28,
   "metadata": {},
   "outputs": [
    {
     "data": {
      "text/plain": [
       "(0, 0.01)"
      ]
     },
     "execution_count": 28,
     "metadata": {},
     "output_type": "execute_result"
    },
    {
     "data": {
      "image/png": "[encoded data removed]",
      "text/plain": [
       "<Figure size 432x288 with 1 Axes>"
      ]
     },
     "metadata": {
      "needs_background": "light"
     },
     "output_type": "display_data"
    }
   ],
   "source": [
    "ax12 = dataset12.plot(kind='scatter',x='number-of-elements',y='time')\n",
    "ax12.set_ylim(0,.01)"
   ]
  },
  {
   "cell_type": "markdown",
   "metadata": {},
   "source": [
    "#### Explaination"
   ]
  },
  {
   "cell_type": "markdown",
   "metadata": {},
   "source": [
    "Getting the length of a list and dictionary is a constant operation, the length could either besaved as meta data or easily calculated."
   ]
  },
  {
   "cell_type": "markdown",
   "metadata": {},
   "source": [
    "### Sort the Data Structure"
   ]
  },
  {
   "cell_type": "markdown",
   "metadata": {},
   "source": [
    "#### Dictionary"
   ]
  },
  {
   "cell_type": "markdown",
   "metadata": {},
   "source": [
    "Dictionaries cannot be ordered by key, value elements."
   ]
  },
  {
   "cell_type": "markdown",
   "metadata": {},
   "source": [
    "#### List"
   ]
  },
  {
   "cell_type": "code",
   "execution_count": 29,
   "metadata": {},
   "outputs": [
    {
     "name": "stdout",
     "output_type": "stream",
     "text": [
      "    number-of-elements      time\n",
      "0                    2  0.000003\n",
      "1                 6668  0.000142\n",
      "2                13334  0.000240\n",
      "3                20000  0.000428\n",
      "4                26666  0.000489\n",
      "5                33332  0.000783\n",
      "6                39998  0.000766\n",
      "7                46664  0.001014\n",
      "8                53330  0.001205\n",
      "9                59996  0.001191\n",
      "10               66662  0.001315\n",
      "11               73328  0.001459\n",
      "12               79994  0.001866\n",
      "13               86660  0.002030\n",
      "14               93326  0.002761\n"
     ]
    }
   ],
   "source": [
    "file = \"csvs/sort_list.csv\"\n",
    "dataset14 = pd.read_csv(file,names=names)\n",
    "print(dataset14)"
   ]
  },
  {
   "cell_type": "code",
   "execution_count": 30,
   "metadata": {},
   "outputs": [
    {
     "data": {
      "text/plain": [
       "(0, 0.01)"
      ]
     },
     "execution_count": 30,
     "metadata": {},
     "output_type": "execute_result"
    },
    {
     "data": {
      "image/png": "[encoded data removed]",
      "text/plain": [
       "<Figure size 432x288 with 1 Axes>"
      ]
     },
     "metadata": {
      "needs_background": "light"
     },
     "output_type": "display_data"
    }
   ],
   "source": [
    "ax14 = dataset14.plot(kind='scatter',x='number-of-elements',y='time')\n",
    "ax14.set_ylim(0,.01)"
   ]
  },
  {
   "cell_type": "markdown",
   "metadata": {},
   "source": [
    "#### Explanation"
   ]
  },
  {
   "cell_type": "markdown",
   "metadata": {},
   "source": [
    "Sorting of a list is linear as it must go through each element individually.."
   ]
  },
  {
   "cell_type": "markdown",
   "metadata": {},
   "source": [
    "### Add to Middle of Data Structure"
   ]
  },
  {
   "cell_type": "markdown",
   "metadata": {},
   "source": [
    "#### Dictionary"
   ]
  },
  {
   "cell_type": "markdown",
   "metadata": {},
   "source": [
    "Dictionaries have no \"middle\" to add to, they will always add to the \"end\" of the structure."
   ]
  },
  {
   "cell_type": "markdown",
   "metadata": {},
   "source": [
    "#### List"
   ]
  },
  {
   "cell_type": "code",
   "execution_count": 31,
   "metadata": {},
   "outputs": [
    {
     "name": "stdout",
     "output_type": "stream",
     "text": [
      "    number-of-elements      time\n",
      "0                    3  0.000004\n",
      "1                 6669  0.000003\n",
      "2                13335  0.000006\n",
      "3                20001  0.000005\n",
      "4                26667  0.000008\n",
      "5                33333  0.000011\n",
      "6                39999  0.000019\n",
      "7                46665  0.000017\n",
      "8                53331  0.000024\n",
      "9                59997  0.000026\n",
      "10               66663  0.000022\n",
      "11               73329  0.000033\n",
      "12               79995  0.000031\n",
      "13               86661  0.000039\n",
      "14               93327  0.000040\n"
     ]
    }
   ],
   "source": [
    "file = \"csvs/addFooMiddle_list.csv\"\n",
    "dataset15 = pd.read_csv(file,names=names)\n",
    "print(dataset15)"
   ]
  },
  {
   "cell_type": "code",
   "execution_count": 32,
   "metadata": {},
   "outputs": [
    {
     "data": {
      "text/plain": [
       "(0, 0.01)"
      ]
     },
     "execution_count": 32,
     "metadata": {},
     "output_type": "execute_result"
    },
    {
     "data": {
      "image/png": "[encoded data removed]",
      "text/plain": [
       "<Figure size 432x288 with 1 Axes>"
      ]
     },
     "metadata": {
      "needs_background": "light"
     },
     "output_type": "display_data"
    }
   ],
   "source": [
    "ax15 = dataset15.plot(kind='scatter',x='number-of-elements',y='time')\n",
    "ax15.set_ylim(0,.01)"
   ]
  },
  {
   "cell_type": "markdown",
   "metadata": {},
   "source": [
    "#### Explanation"
   ]
  },
  {
   "cell_type": "markdown",
   "metadata": {},
   "source": [
    "Adding data to the middle of a list is constant, it seems to go directly to the index and place the data directly."
   ]
  },
  {
   "cell_type": "markdown",
   "metadata": {},
   "source": [
    "### Remove Middle Element of Data Structure"
   ]
  },
  {
   "cell_type": "markdown",
   "metadata": {},
   "source": [
    "#### Dictionary"
   ]
  },
  {
   "cell_type": "code",
   "execution_count": 33,
   "metadata": {},
   "outputs": [
    {
     "name": "stdout",
     "output_type": "stream",
     "text": [
      "    number-of-elements      time\n",
      "0                    0  0.000022\n",
      "1                 6666  0.000053\n",
      "2                13332  0.000100\n",
      "3                19998  0.000168\n",
      "4                26664  0.000228\n",
      "5                33330  0.000268\n",
      "6                39996  0.000341\n",
      "7                46662  0.000388\n",
      "8                53328  0.000443\n",
      "9                59994  0.000510\n",
      "10               66660  0.000679\n",
      "11               73326  0.000933\n",
      "12               79992  0.000762\n",
      "13               86658  0.000926\n",
      "14               93324  0.000875\n"
     ]
    }
   ],
   "source": [
    "file = \"csvs/removeMiddleElement_dict.csv\"\n",
    "dataset16 = pd.read_csv(file,names=names)\n",
    "print(dataset16)"
   ]
  },
  {
   "cell_type": "code",
   "execution_count": 34,
   "metadata": {},
   "outputs": [
    {
     "data": {
      "text/plain": [
       "(0, 0.01)"
      ]
     },
     "execution_count": 34,
     "metadata": {},
     "output_type": "execute_result"
    },
    {
     "data": {
      "image/png": "[encoded data removed]",
      "text/plain": [
       "<Figure size 432x288 with 1 Axes>"
      ]
     },
     "metadata": {
      "needs_background": "light"
     },
     "output_type": "display_data"
    }
   ],
   "source": [
    "ax16 = dataset16.plot(kind='scatter',x='number-of-elements',y='time')\n",
    "ax16.set_ylim(0,.01)"
   ]
  },
  {
   "cell_type": "markdown",
   "metadata": {},
   "source": [
    "#### List"
   ]
  },
  {
   "cell_type": "code",
   "execution_count": 35,
   "metadata": {},
   "outputs": [
    {
     "name": "stdout",
     "output_type": "stream",
     "text": [
      "    number-of-elements      time\n",
      "0                    1  0.000004\n",
      "1                 6667  0.000005\n",
      "2                13333  0.000005\n",
      "3                19999  0.000006\n",
      "4                26665  0.000015\n",
      "5                33331  0.000009\n",
      "6                39997  0.000012\n",
      "7                46663  0.000013\n",
      "8                53329  0.000021\n",
      "9                59995  0.000019\n",
      "10               66661  0.000020\n",
      "11               73327  0.000031\n",
      "12               79993  0.000026\n",
      "13               86659  0.000020\n",
      "14               93325  0.000028\n"
     ]
    }
   ],
   "source": [
    "file = \"csvs/removeMiddleElement_list.csv\"\n",
    "dataset17 = pd.read_csv(file,names=names)\n",
    "print(dataset17)"
   ]
  },
  {
   "cell_type": "code",
   "execution_count": 36,
   "metadata": {},
   "outputs": [
    {
     "data": {
      "text/plain": [
       "(0, 0.01)"
      ]
     },
     "execution_count": 36,
     "metadata": {},
     "output_type": "execute_result"
    },
    {
     "data": {
      "image/png": "[encoded data removed]",
      "text/plain": [
       "<Figure size 432x288 with 1 Axes>"
      ]
     },
     "metadata": {
      "needs_background": "light"
     },
     "output_type": "display_data"
    }
   ],
   "source": [
    "ax17 = dataset17.plot(kind='scatter',x='number-of-elements',y='time')\n",
    "ax17.set_ylim(0,.01)"
   ]
  },
  {
   "cell_type": "markdown",
   "metadata": {},
   "source": [
    "### Get Middle Element of Data Structure"
   ]
  },
  {
   "cell_type": "markdown",
   "metadata": {},
   "source": [
    "#### Dictionary"
   ]
  },
  {
   "cell_type": "code",
   "execution_count": 37,
   "metadata": {},
   "outputs": [
    {
     "name": "stdout",
     "output_type": "stream",
     "text": [
      "    number-of-elements      time\n",
      "0                    1  0.000008\n",
      "1                 6667  0.000075\n",
      "2                13333  0.000101\n",
      "3                19999  0.000191\n",
      "4                26665  0.000314\n",
      "5                33331  0.000277\n",
      "6                39997  0.000341\n",
      "7                46663  0.000497\n",
      "8                53329  0.000486\n",
      "9                59995  0.000495\n",
      "10               66661  0.000621\n",
      "11               73327  0.000657\n",
      "12               79993  0.000734\n",
      "13               86659  0.000889\n",
      "14               93325  0.001006\n"
     ]
    }
   ],
   "source": [
    "file = \"csvs/getMiddleElement_dict.csv\"\n",
    "dataset18 = pd.read_csv(file,names=names)\n",
    "print(dataset18)"
   ]
  },
  {
   "cell_type": "code",
   "execution_count": 38,
   "metadata": {},
   "outputs": [
    {
     "data": {
      "text/plain": [
       "(0, 0.01)"
      ]
     },
     "execution_count": 38,
     "metadata": {},
     "output_type": "execute_result"
    },
    {
     "data": {
      "image/png": "[encoded data removed]",
      "text/plain": [
       "<Figure size 432x288 with 1 Axes>"
      ]
     },
     "metadata": {
      "needs_background": "light"
     },
     "output_type": "display_data"
    }
   ],
   "source": [
    "ax18 = dataset18.plot(kind='scatter',x='number-of-elements',y='time')\n",
    "ax18.set_ylim(0,.01)"
   ]
  },
  {
   "cell_type": "markdown",
   "metadata": {},
   "source": [
    "#### List"
   ]
  },
  {
   "cell_type": "code",
   "execution_count": 39,
   "metadata": {},
   "outputs": [
    {
     "name": "stdout",
     "output_type": "stream",
     "text": [
      "    number-of-elements      time\n",
      "0                    2  0.000003\n",
      "1                 6668  0.000001\n",
      "2                13334  0.000001\n",
      "3                20000  0.000001\n",
      "4                26666  0.000004\n",
      "5                33332  0.000003\n",
      "6                39998  0.000004\n",
      "7                46664  0.000005\n",
      "8                53330  0.000004\n",
      "9                59996  0.000005\n",
      "10               66662  0.000006\n",
      "11               73328  0.000005\n",
      "12               79994  0.000004\n",
      "13               86660  0.000005\n",
      "14               93326  0.000005\n"
     ]
    }
   ],
   "source": [
    "file = \"csvs/getMiddleElement_list.csv\"\n",
    "dataset19 = pd.read_csv(file,names=names)\n",
    "print(dataset19)"
   ]
  },
  {
   "cell_type": "code",
   "execution_count": 40,
   "metadata": {},
   "outputs": [
    {
     "data": {
      "text/plain": [
       "(0, 0.01)"
      ]
     },
     "execution_count": 40,
     "metadata": {},
     "output_type": "execute_result"
    },
    {
     "data": {
      "image/png": "[encoded data removed]",
      "text/plain": [
       "<Figure size 432x288 with 1 Axes>"
      ]
     },
     "metadata": {
      "needs_background": "light"
     },
     "output_type": "display_data"
    }
   ],
   "source": [
    "ax19 = dataset19.plot(kind='scatter',x='number-of-elements',y='time')\n",
    "ax19.set_ylim(0,.01)"
   ]
  },
  {
   "cell_type": "markdown",
   "metadata": {},
   "source": [
    "### Summary"
   ]
  },
  {
   "cell_type": "markdown",
   "metadata": {},
   "source": [
    "From our investigation operations on a list or dictionary are either constant, when independent of the number of elements in a data structure, or linear, when the operation is dependent on the number of elements in the structure.\n",
    "\n",
    "Based on the results, dictionaries seem to be more performant when searching or updating an element. This is because the elements can be accessed based on their key, relatively instantly, rather than having to iterate through an entire list looking for the particular element.\n",
    "\n",
    "Lists are useful when the order of the elements in the data structure matter. With dictionaries, the order is immutable."
   ]
  }
 ],
 "metadata": {
  "kernelspec": {
   "display_name": "Python 3",
   "language": "python",
   "name": "python3"
  },
  "language_info": {
   "codemirror_mode": {
    "name": "ipython",
    "version": 3
   },
   "file_extension": ".py",
   "mimetype": "text/x-python",
   "name": "python",
   "nbconvert_exporter": "python",
   "pygments_lexer": "ipython3",
   "version": "3.7.1"
  }
 },
 "nbformat": 4,
 "nbformat_minor": 2
}
